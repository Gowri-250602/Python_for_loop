{
 "cells": [
  {
   "cell_type": "code",
   "execution_count": 13,
   "id": "4b69dd42-4f41-4381-bdd1-e1c323400b0b",
   "metadata": {},
   "outputs": [
    {
     "name": "stdout",
     "output_type": "stream",
     "text": [
      "dividend by 5 :  [5, 10, 15, 20, 25, 5, 50, 150, 300]\n"
     ]
    }
   ],
   "source": [
    "#find the no's between 0-25 divide by 5\n",
    "\n",
    "l=[1,3,2,5,10,15,20,25,3,33,5,50,150,300]\n",
    "l1=[]\n",
    "for i in l:\n",
    "    if i%5==0:\n",
    "        l1.append(i)\n",
    "print(\"dividend by 5 : \",l1)\n",
    "       "
   ]
  },
  {
   "cell_type": "code",
   "execution_count": 11,
   "id": "db09bb26-951f-438b-8667-a3d37576bfbe",
   "metadata": {},
   "outputs": [
    {
     "data": {
      "text/plain": [
       "16"
      ]
     },
     "execution_count": 11,
     "metadata": {},
     "output_type": "execute_result"
    }
   ],
   "source": [
    "#Given l = [5, 6, 78, 8, 990], find the length of the list without using the len keyword.\n",
    "\n",
    "l=[5,6,78,8,990,5,6,7,8,9,1,2,3,4,5,7]\n",
    "count=0\n",
    "for i in l:\n",
    "    count+=1\n",
    "count\n",
    "    "
   ]
  }
 ],
 "metadata": {
  "kernelspec": {
   "display_name": "Python 3 (ipykernel)",
   "language": "python",
   "name": "python3"
  },
  "language_info": {
   "codemirror_mode": {
    "name": "ipython",
    "version": 3
   },
   "file_extension": ".py",
   "mimetype": "text/x-python",
   "name": "python",
   "nbconvert_exporter": "python",
   "pygments_lexer": "ipython3",
   "version": "3.12.7"
  }
 },
 "nbformat": 4,
 "nbformat_minor": 5
}
